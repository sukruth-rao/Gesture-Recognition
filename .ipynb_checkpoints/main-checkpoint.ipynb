{
 "cells": [
  {
   "cell_type": "code",
   "execution_count": null,
   "id": "02df7fe9-e51e-44ff-be1b-f5413543f52c",
   "metadata": {},
   "outputs": [],
   "source": [
    "import cv2\n",
    "import mediapipe as mp\n",
    "import pyautogui\n",
    "cap = cv2.VideoCapture(0)\n",
    "hand_detector = mp.solutions.hands.Hands()\n",
    "drawing_utils = mp.solutions.drawing_utils\n",
    "screen_width, screen_height = pyautogui.size()\n",
    "index_y = 0\n",
    "while True:\n",
    "    _, frame = cap.read()\n",
    "    frame = cv2.flip(frame, 1)\n",
    "    frame_height, frame_width, _ = frame.shape\n",
    "    rgb_frame = cv2.cvtColor(frame, cv2.COLOR_BGR2RGB)\n",
    "    output = hand_detector.process(rgb_frame)\n",
    "    hands = output.multi_hand_landmarks\n",
    "    if hands:\n",
    "        for hand in hands:\n",
    "            drawing_utils.draw_landmarks(frame, hand)\n",
    "            landmarks = hand.landmark\n",
    "            for id, landmark in enumerate(landmarks):\n",
    "                x = int(landmark.x*frame_width)\n",
    "                y = int(landmark.y*frame_height)\n",
    "                if id == 8:\n",
    "                    cv2.circle(img=frame, center=(x,y), radius=10, color=(0, 255, 255))\n",
    "                    index_x = screen_width/frame_width*x\n",
    "                    index_y = screen_height/frame_height*y\n",
    "\n",
    "                if id == 4:\n",
    "                    cv2.circle(img=frame, center=(x,y), radius=10, color=(0, 255, 255))\n",
    "                    thumb_x = screen_width/frame_width*x\n",
    "                    thumb_y = screen_height/frame_height*y\n",
    "                    print('outside', abs(index_y - thumb_y))\n",
    "                    if abs(index_y - thumb_y) < 20:\n",
    "                        pyautogui.click()\n",
    "                        pyautogui.sleep(1)\n",
    "                    elif abs(index_y - thumb_y) < 100:\n",
    "                        pyautogui.moveTo(index_x, index_y)\n",
    "    cv2.imshow('Virtual Mouse', frame)\n",
    "    cv2.waitKey(1)"
   ]
  }
 ],
 "metadata": {
  "kernelspec": {
   "display_name": "Python 3 (ipykernel)",
   "language": "python",
   "name": "python3"
  },
  "language_info": {
   "codemirror_mode": {
    "name": "ipython",
    "version": 3
   },
   "file_extension": ".py",
   "mimetype": "text/x-python",
   "name": "python",
   "nbconvert_exporter": "python",
   "pygments_lexer": "ipython3",
   "version": "3.8.10"
  }
 },
 "nbformat": 4,
 "nbformat_minor": 5
}
