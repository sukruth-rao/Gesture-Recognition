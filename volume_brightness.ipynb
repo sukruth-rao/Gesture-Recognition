{
 "cells": [
  {
   "cell_type": "code",
   "execution_count": 2,
   "id": "a7ad309c-12f3-4a62-a92c-98ecb60a9dd7",
   "metadata": {},
   "outputs": [
    {
     "name": "stdout",
     "output_type": "stream",
     "text": [
      "Collecting screen_brightness_control\n",
      "  Downloading screen_brightness_control-0.23.0-py3-none-any.whl (35 kB)\n",
      "Collecting wmi\n",
      "  Downloading WMI-1.5.1-py2.py3-none-any.whl (28 kB)\n",
      "Collecting pypiwin32\n",
      "  Downloading pypiwin32-223-py3-none-any.whl (1.7 kB)\n",
      "Requirement already satisfied: pywin32 in c:\\users\\jb\\scoop\\persist\\python38\\lib\\site-packages (from screen_brightness_control) (306)\n",
      "Installing collected packages: wmi, pypiwin32, screen-brightness-control\n",
      "Successfully installed pypiwin32-223 screen-brightness-control-0.23.0 wmi-1.5.1\n"
     ]
    },
    {
     "name": "stderr",
     "output_type": "stream",
     "text": [
      "WARNING: You are using pip version 21.1.1; however, version 24.0 is available.\n",
      "You should consider upgrading via the 'c:\\users\\jb\\scoop\\apps\\python38\\current\\python.exe -m pip install --upgrade pip' command.\n"
     ]
    }
   ],
   "source": []
  },
  {
   "cell_type": "code",
   "execution_count": 3,
   "id": "5f366e77-cab2-4ef9-ad35-cf41dc1f1b3c",
   "metadata": {},
   "outputs": [
    {
     "ename": "KeyboardInterrupt",
     "evalue": "",
     "output_type": "error",
     "traceback": [
      "\u001b[1;31m---------------------------------------------------------------------------\u001b[0m",
      "\u001b[1;31mKeyboardInterrupt\u001b[0m                         Traceback (most recent call last)",
      "Cell \u001b[1;32mIn[3], line 93\u001b[0m\n\u001b[0;32m     89\u001b[0m     \u001b[38;5;28;01mreturn\u001b[39;00m L\n\u001b[0;32m     92\u001b[0m \u001b[38;5;28;01mif\u001b[39;00m \u001b[38;5;18m__name__\u001b[39m \u001b[38;5;241m==\u001b[39m \u001b[38;5;124m'\u001b[39m\u001b[38;5;124m__main__\u001b[39m\u001b[38;5;124m'\u001b[39m:\n\u001b[1;32m---> 93\u001b[0m     \u001b[43mmain\u001b[49m\u001b[43m(\u001b[49m\u001b[43m)\u001b[49m\n",
      "Cell \u001b[1;32mIn[3], line 51\u001b[0m, in \u001b[0;36mmain\u001b[1;34m()\u001b[0m\n\u001b[0;32m     48\u001b[0m             volume\u001b[38;5;241m.\u001b[39mSetMasterVolumeLevel(vol, \u001b[38;5;28;01mNone\u001b[39;00m)\n\u001b[0;32m     50\u001b[0m         cv2\u001b[38;5;241m.\u001b[39mimshow(\u001b[38;5;124m'\u001b[39m\u001b[38;5;124mImage\u001b[39m\u001b[38;5;124m'\u001b[39m, frame)\n\u001b[1;32m---> 51\u001b[0m         \u001b[38;5;28;01mif\u001b[39;00m \u001b[43mcv2\u001b[49m\u001b[38;5;241;43m.\u001b[39;49m\u001b[43mwaitKey\u001b[49m\u001b[43m(\u001b[49m\u001b[38;5;241;43m1\u001b[39;49m\u001b[43m)\u001b[49m \u001b[38;5;241m&\u001b[39m \u001b[38;5;241m0xFF\u001b[39m \u001b[38;5;241m==\u001b[39m \u001b[38;5;28mord\u001b[39m(\u001b[38;5;124m'\u001b[39m\u001b[38;5;124mq\u001b[39m\u001b[38;5;124m'\u001b[39m):\n\u001b[0;32m     52\u001b[0m             \u001b[38;5;28;01mbreak\u001b[39;00m\n\u001b[0;32m     53\u001b[0m \u001b[38;5;28;01mfinally\u001b[39;00m:\n",
      "\u001b[1;31mKeyboardInterrupt\u001b[0m: "
     ]
    }
   ],
   "source": [
    "import cv2\n",
    "import numpy as np\n",
    "import mediapipe as mp\n",
    "import screen_brightness_control as sbc\n",
    "from math import hypot\n",
    "from pycaw.pycaw import AudioUtilities, IAudioEndpointVolume\n",
    "from ctypes import cast, POINTER\n",
    "from comtypes import CLSCTX_ALL\n",
    "\n",
    "\n",
    "def main():\n",
    "    devices = AudioUtilities.GetSpeakers()\n",
    "    interface = devices.Activate(IAudioEndpointVolume._iid_, CLSCTX_ALL, None)\n",
    "    volume = cast(interface, POINTER(IAudioEndpointVolume))\n",
    "    volRange = volume.GetVolumeRange()\n",
    "    minVol, maxVol, _ = volRange\n",
    "\n",
    "    mpHands = mp.solutions.hands\n",
    "    hands = mpHands.Hands(\n",
    "        static_image_mode=False,\n",
    "        model_complexity=1,\n",
    "        min_detection_confidence=0.75,\n",
    "        min_tracking_confidence=0.75,\n",
    "        max_num_hands=2)\n",
    "\n",
    "    draw = mp.solutions.drawing_utils\n",
    "    cap = cv2.VideoCapture(0)\n",
    "    try:\n",
    "        while cap.isOpened():\n",
    "            ret, frame = cap.read()\n",
    "            if not ret:\n",
    "                break\n",
    "            frame = cv2.flip(frame, 1)\n",
    "            frameRGB = cv2.cvtColor(frame, cv2.COLOR_BGR2RGB)\n",
    "            processed = hands.process(frameRGB)\n",
    "\n",
    "            left_landmark_list, right_landmark_list = get_left_right_landmarks(frame, processed, draw, mpHands)\n",
    "            # Change brightness using left hand (In video it would appear as right hand as we are mirroring the frame)\n",
    "            if left_landmark_list:\n",
    "                left_distance = get_distance(frame, left_landmark_list)\n",
    "                b_level = np.interp(left_distance, [50, 220], [0, 100])\n",
    "                sbc.set_brightness(int(b_level))\n",
    "\n",
    "            # Change volume using right hand (In video it would appear as left hand as we are mirroring the frame)\n",
    "            if right_landmark_list:\n",
    "                right_distance = get_distance(frame, right_landmark_list)\n",
    "                vol = np.interp(right_distance, [50, 220], [minVol, maxVol])\n",
    "                volume.SetMasterVolumeLevel(vol, None)\n",
    "\n",
    "            cv2.imshow('Image', frame)\n",
    "            if cv2.waitKey(1) & 0xFF == ord('q'):\n",
    "                break\n",
    "    finally:\n",
    "        cap.release()\n",
    "        cv2.destroyAllWindows()\n",
    "\n",
    "\n",
    "def get_left_right_landmarks(frame, processed, draw, mpHands):\n",
    "    left_landmark_list = []\n",
    "    right_landmark_list = []\n",
    "\n",
    "    if processed.multi_hand_landmarks:\n",
    "        for handlm in processed.multi_hand_landmarks:\n",
    "            for idx, found_landmark in enumerate(handlm.landmark):\n",
    "                height, width, _ = frame.shape\n",
    "                x, y = int(found_landmark.x * width), int(found_landmark.y * height)\n",
    "                if idx == 4 or idx == 8:\n",
    "                    landmark = [idx, x, y]\n",
    "                    if handlm == processed.multi_hand_landmarks[0]:\n",
    "                        left_landmark_list.append(landmark)\n",
    "                    elif handlm == processed.multi_hand_landmarks[1]:\n",
    "                        right_landmark_list.append(landmark)\n",
    "\n",
    "            draw.draw_landmarks(frame, handlm, mpHands.HAND_CONNECTIONS)\n",
    "\n",
    "    return left_landmark_list, right_landmark_list\n",
    "\n",
    "\n",
    "def get_distance(frame, landmark_ist):\n",
    "    if len(landmark_ist) < 2:\n",
    "        return\n",
    "    (x1, y1), (x2, y2) = (landmark_ist[0][1], landmark_ist[0][2]), \\\n",
    "        (landmark_ist[1][1], landmark_ist[1][2])\n",
    "    cv2.circle(frame, (x1, y1), 7, (0, 255, 0), cv2.FILLED)\n",
    "    cv2.circle(frame, (x2, y2), 7, (0, 255, 0), cv2.FILLED)\n",
    "    cv2.line(frame, (x1, y1), (x2, y2), (0, 255, 0), 3)\n",
    "    L = hypot(x2 - x1, y2 - y1)\n",
    "\n",
    "    return L\n",
    "\n",
    "\n",
    "if __name__ == '__main__':\n",
    "    main()"
   ]
  },
  {
   "cell_type": "code",
   "execution_count": null,
   "id": "0f61ec81-3182-4447-978d-87039746ff89",
   "metadata": {},
   "outputs": [],
   "source": []
  }
 ],
 "metadata": {
  "kernelspec": {
   "display_name": "Python 3 (ipykernel)",
   "language": "python",
   "name": "python3"
  },
  "language_info": {
   "codemirror_mode": {
    "name": "ipython",
    "version": 3
   },
   "file_extension": ".py",
   "mimetype": "text/x-python",
   "name": "python",
   "nbconvert_exporter": "python",
   "pygments_lexer": "ipython3",
   "version": "3.8.10"
  }
 },
 "nbformat": 4,
 "nbformat_minor": 5
}
